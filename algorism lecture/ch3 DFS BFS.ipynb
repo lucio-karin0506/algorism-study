{
 "cells": [
  {
   "cell_type": "markdown",
   "metadata": {},
   "source": [
    "## 1. 꼭 필요한 자료구조 기초"
   ]
  },
  {
   "cell_type": "code",
   "execution_count": 1,
   "metadata": {},
   "outputs": [
    {
     "name": "stdout",
     "output_type": "stream",
     "text": [
      "[5, 2, 3, 1]\n",
      "[1, 3, 2, 5]\n"
     ]
    }
   ],
   "source": [
    "# 1. stack\n",
    "# Last In First Out\n",
    "\n",
    "stack = []\n",
    "\n",
    "stack.append(5)\n",
    "stack.append(2)\n",
    "stack.append(3)\n",
    "stack.append(7)\n",
    "stack.pop()\n",
    "stack.append(1)\n",
    "stack.append(4)\n",
    "stack.pop()\n",
    "\n",
    "print(stack)\n",
    "print(stack[::-1])"
   ]
  },
  {
   "cell_type": "code",
   "execution_count": 2,
   "metadata": {},
   "outputs": [
    {
     "name": "stdout",
     "output_type": "stream",
     "text": [
      "[3, 7, 1, 4]\n",
      "[4, 1, 7, 3]\n"
     ]
    }
   ],
   "source": [
    "# queue\n",
    "# First In First Out\n",
    "\n",
    "from collections import deque\n",
    "queue = deque()\n",
    "\n",
    "queue.append(5)\n",
    "queue.append(2)\n",
    "queue.append(3)\n",
    "queue.append(7)\n",
    "queue.popleft()\n",
    "queue.append(1)\n",
    "queue.append(4)\n",
    "queue.popleft()\n",
    "\n",
    "print(list(queue))\n",
    "queue.reverse()\n",
    "print(list(queue))"
   ]
  },
  {
   "cell_type": "code",
   "execution_count": 3,
   "metadata": {},
   "outputs": [
    {
     "data": {
      "text/plain": [
       "24"
      ]
     },
     "execution_count": 3,
     "metadata": {},
     "output_type": "execute_result"
    }
   ],
   "source": [
    "# 3. recursive function\n",
    "\n",
    "# factorial using iterative\n",
    "def factorial_iterative(n):\n",
    "    res = 1\n",
    "    # 1 ~ n 까지의 수 차례대로 곱하기\n",
    "    for i in range(1, n+1):\n",
    "        res *= i\n",
    "    return res\n",
    "\n",
    "# factorial using recursive\n",
    "def factorial_recursive(n):\n",
    "    if n < 1:\n",
    "        return 1\n",
    "\n",
    "    return n * factorial_recursive(n-1)\n",
    "\n",
    "factorial_recursive(4)"
   ]
  },
  {
   "cell_type": "markdown",
   "metadata": {},
   "source": [
    "## 2. 탐색 알고리즘 DFS/BFS"
   ]
  },
  {
   "cell_type": "markdown",
   "metadata": {},
   "source": [
    "### 2.1 DFS(깊이 우선 탐색)"
   ]
  },
  {
   "cell_type": "code",
   "execution_count": 4,
   "metadata": {},
   "outputs": [
    {
     "data": {
      "text/plain": [
       "[[0, 7, 5], [7, 0, 9999999999], [5, 9999999999, 0]]"
      ]
     },
     "execution_count": 4,
     "metadata": {},
     "output_type": "execute_result"
    }
   ],
   "source": [
    "# 1. 그래프의 표현\n",
    "# 1.1 인접 행렬 방식\n",
    "# 2차원 배열에 각 노드가 연결된 형태 기록\n",
    "\n",
    "# 무한의 비용\n",
    "INF = 9999999999\n",
    "graph = [\n",
    "    [0, 7, 5],\n",
    "    [7, 0, INF],\n",
    "    [5, INF, 0]\n",
    "]\n",
    "\n",
    "graph"
   ]
  },
  {
   "cell_type": "code",
   "execution_count": 12,
   "metadata": {},
   "outputs": [
    {
     "data": {
      "text/plain": [
       "[[(1, 7), (2, 5)], [(0, 7)], [(0, 5)]]"
      ]
     },
     "execution_count": 12,
     "metadata": {},
     "output_type": "execute_result"
    }
   ],
   "source": [
    "# 1.2 인접 리스트 방식\n",
    "# 모든 노드에 연결된 노드에 대한 정보 차례대로 연결하여 저장\n",
    "graph = [[] for _ in range(3)]\n",
    "\n",
    "# 노드 0에 연결된 노드 정보 저장(노드, 거리)\n",
    "graph[0].append((1, 7))\n",
    "graph[0].append((2, 5))\n",
    "\n",
    "graph[1].append((0, 7))\n",
    "\n",
    "graph[2].append((0, 5))\n",
    "\n",
    "graph"
   ]
  },
  {
   "cell_type": "code",
   "execution_count": 5,
   "metadata": {},
   "outputs": [
    {
     "name": "stdout",
     "output_type": "stream",
     "text": [
      "1 2 7 6 8 3 4 5 "
     ]
    }
   ],
   "source": [
    "'''\n",
    "    1. 탐색 시작 노드를 스택에 삽입하고 방문 처리\n",
    "    2. 스택의 최상단 노드에 방문하지 않은 인접 노드가 없으면 스택에서 최상단 노드를 끄냄\n",
    "    3. 2번의 과정을 더 이상 수행할 수 없을 때까지 반복\n",
    "'''\n",
    "\n",
    "def dfs(graph, v, visited):\n",
    "    # 현재 노드 방문 처리\n",
    "    visited[v] = True\n",
    "    print(v, end=' ')\n",
    "\n",
    "    # 현재 노드와 연결된 다른 노드를 재귀적으로 방문\n",
    "    for i in graph[v]:\n",
    "        if not visited[i]:\n",
    "            dfs(graph, i, visited)\n",
    "\n",
    "graph = [\n",
    "    [],\n",
    "    [2, 3, 8],\n",
    "    [1, 7],\n",
    "    [1, 4, 5],\n",
    "    [3, 5],\n",
    "    [3, 4],\n",
    "    [7],\n",
    "    [2, 6, 8],\n",
    "    [1, 7]\n",
    "]\n",
    "\n",
    "# 각 노드가 방문된 정보 표현\n",
    "visited = [False] * 9\n",
    "\n",
    "dfs(graph, 1, visited)"
   ]
  },
  {
   "cell_type": "markdown",
   "metadata": {},
   "source": [
    "### 2.2 BFS(너비 우선 탐색)"
   ]
  },
  {
   "cell_type": "code",
   "execution_count": 6,
   "metadata": {},
   "outputs": [
    {
     "name": "stdout",
     "output_type": "stream",
     "text": [
      "1 2 3 8 7 4 5 6 "
     ]
    }
   ],
   "source": [
    "'''\n",
    "    1. 탐색 시작 노드를 큐에 삽입하고 방문 처리\n",
    "    2. 큐에서 노드를 꺼내 해당 노드의 인접 노드 중에서 방문하지 않은 노드를 모두 큐에 삽입하고 방문 처리\n",
    "    3. 일반적인 경우 실제 수행 시간은 dfs보다 좋은 편\n",
    "'''\n",
    "from collections import deque\n",
    "\n",
    "def bfs(graph, start, visited):\n",
    "    queue = deque([start])\n",
    "\n",
    "    # 현재 노드 방문 처리\n",
    "    visited[start] = True\n",
    "\n",
    "    # 큐가 빌 때까지 반복\n",
    "    while queue:\n",
    "        # 큐에서 하나의 원소 뽑아 출력\n",
    "        v = queue.popleft()\n",
    "        print(v, end=' ')\n",
    "\n",
    "        # 해당 원소와 연결된 아직 방문하지 않은 원소들을 큐에 삽입\n",
    "        for i in graph[v]:\n",
    "            if not visited[i]:\n",
    "                queue.append(i)\n",
    "                visited[i] = True\n",
    "\n",
    "graph = [\n",
    "    [],\n",
    "    [2, 3, 8],\n",
    "    [1, 7],\n",
    "    [1, 4, 5],\n",
    "    [3, 5],\n",
    "    [3, 4],\n",
    "    [7],\n",
    "    [2, 6, 8],\n",
    "    [1, 7]\n",
    "]\n",
    "\n",
    "visited = [False] * 9\n",
    "\n",
    "bfs(graph, 1, visited)"
   ]
  },
  {
   "cell_type": "markdown",
   "metadata": {},
   "source": [
    "## 3. 실전 문제"
   ]
  },
  {
   "cell_type": "code",
   "execution_count": 4,
   "metadata": {},
   "outputs": [
    {
     "name": "stdout",
     "output_type": "stream",
     "text": [
      "3\n"
     ]
    }
   ],
   "source": [
    "# 1. 음료수 얼려 먹기\n",
    "n, m = map(int, input().split())\n",
    "ice_info = [list(map(int, input())) for _ in range(n)]\n",
    "\n",
    "def make_ice(x, y):\n",
    "    # 주어진 범위 벗어나면 종료\n",
    "    if x <= -1 or y <= -1 or x >= n or y >= m:\n",
    "        return False\n",
    "\n",
    "    # 현재 노드 미방문시\n",
    "    if ice_info[x][y] == 0:\n",
    "        \n",
    "        # node 방문 처리\n",
    "        ice_info[x][y] = 1\n",
    "\n",
    "        # 상하좌우 탐색\n",
    "        make_ice(x-1, y)\n",
    "        make_ice(x, y-1)\n",
    "        make_ice(x+1, y)\n",
    "        make_ice(x, y+1)\n",
    "\n",
    "        return True\n",
    "\n",
    "    return False\n",
    "\n",
    "# 모든 노드에 음료수 채우기\n",
    "res = 0\n",
    "for i in range(n):\n",
    "    for j in range(m):\n",
    "        # 현재 위치에서 탐색 수행\n",
    "        if make_ice(i, j) == True:\n",
    "            res += 1\n",
    "\n",
    "print(res)"
   ]
  },
  {
   "cell_type": "code",
   "execution_count": 7,
   "metadata": {},
   "outputs": [
    {
     "name": "stdout",
     "output_type": "stream",
     "text": [
      "10\n"
     ]
    }
   ],
   "source": [
    "# 2. 미로 탈출\n",
    "n, m = map(int, input().split())\n",
    "graph = [list(map(int, input())) for _ in range(n)]\n",
    "\n",
    "# 상하좌우 탐색 위한 방향 설정 리스트\n",
    "dx = [-1, 1, 0, 0]\n",
    "dy = [0, 0, -1, 1]\n",
    "\n",
    "from collections import deque\n",
    "\n",
    "def bfs(x, y):\n",
    "    queue = deque()\n",
    "    queue.append((x, y))\n",
    "\n",
    "    # queue가 빌 때까지 반복\n",
    "    while queue:\n",
    "        x, y = queue.popleft()\n",
    "        \n",
    "        # 현재 위치에서 4방향 탐색\n",
    "        for i in range(4):\n",
    "            nx = x + dx[i]\n",
    "            ny = y + dy[i]\n",
    "\n",
    "            # 미로 공간 벗어날 시\n",
    "            if nx < 0 or nx >= n or ny < 0 or ny >= m:\n",
    "                continue\n",
    "\n",
    "            # 괴물 만난 경우 도망 ㄱㄱ\n",
    "            if graph[nx][ny] == 0:\n",
    "                continue\n",
    "\n",
    "            # 괴물 없는 곳이면 최단거리 기록\n",
    "            if graph[nx][ny] == 1:\n",
    "                graph[nx][ny] = graph[x][y] + 1\n",
    "                queue.append((nx, ny))\n",
    "\n",
    "    # 미로 맨 하단까지 최단거리 반환\n",
    "    return graph[n-1][m-1]\n",
    "\n",
    "print(bfs(0, 0))"
   ]
  },
  {
   "cell_type": "markdown",
   "metadata": {},
   "source": [
    "## 4. 기출 문제"
   ]
  },
  {
   "cell_type": "code",
   "execution_count": 3,
   "metadata": {},
   "outputs": [
    {
     "name": "stdout",
     "output_type": "stream",
     "text": [
      "[[], [2, 3], [3, 4], [], []]\n",
      "4\n"
     ]
    }
   ],
   "source": [
    "# 1. 특정 거리의 도시 찾기\n",
    "from collections import deque\n",
    "\n",
    "N, M, K, X = map(int, input().split())\n",
    "graph = [[] for _ in range(M+1)]\n",
    "\n",
    "# 모든 도로 정보 입력받기\n",
    "for _ in range(M):\n",
    "    a, b = map(int, input().split())\n",
    "    graph[a].append(b)\n",
    "\n",
    "print(graph)\n",
    "\n",
    "# 모든 도시에 대한 최단 거리 초기화\n",
    "distance = [-1] * (N + 1)\n",
    "distance[X] = 0 # 출발 도시까지의 거리는 0으로 설정\n",
    "\n",
    "# bfs\n",
    "q = deque([X])\n",
    "while q:\n",
    "    now = q.popleft()\n",
    "    # 현재 도시에서 이동할 수 있는 모든 도시 확인\n",
    "    for next_node in graph[now]:\n",
    "        # 미방문 도시라면\n",
    "        if distance[next_node] == -1:\n",
    "            # 최단 거리 갱신\n",
    "            distance[next_node] = distance[now] + 1\n",
    "            q.append(next_node)\n",
    "\n",
    "# 최단 거리가 K인 모든 도시의 번호를 오름차순으로 출력\n",
    "check = False\n",
    "for i in range(1, N+1):\n",
    "    if distance[i] == K:\n",
    "        print(i)\n",
    "        check = True\n",
    "\n",
    "# 만약 최단거리 K인 도시가 없다면, -1출력\n",
    "if check == False:\n",
    "    print(-1)"
   ]
  },
  {
   "cell_type": "code",
   "execution_count": 5,
   "metadata": {},
   "outputs": [
    {
     "name": "stdout",
     "output_type": "stream",
     "text": [
      "4 6\n",
      "[[0, 0, 0, 0, 0, 0], [1, 0, 0, 0, 0, 2], [1, 1, 1, 0, 0, 2], [0, 0, 0, 0, 0, 2]]\n"
     ]
    }
   ],
   "source": [
    "# 2. 연구소\n",
    "a, b = map(int, input().split())\n",
    "\n",
    "# 초기 맵 리스트\n",
    "graph = [list(map(int, input().split())) for _ in range(a)]\n",
    "# 벽 설치 한 뒤 맵 리스트\n",
    "temp = [[0] * b for _ in range(a)]\n",
    "\n",
    "# 4가지 이동방향\n",
    "dx = [-1, 0, 1, 0]\n",
    "dy = [0, 1, 0, -1]\n",
    "\n"
   ]
  }
 ],
 "metadata": {
  "interpreter": {
   "hash": "c0c50851f344b43aeb9dadf44b144fb3af82e8b368dc2ce0455f515a87222333"
  },
  "kernelspec": {
   "display_name": "Python 3.9.7 64-bit ('algorism_env': conda)",
   "language": "python",
   "name": "python3"
  },
  "language_info": {
   "codemirror_mode": {
    "name": "ipython",
    "version": 3
   },
   "file_extension": ".py",
   "mimetype": "text/x-python",
   "name": "python",
   "nbconvert_exporter": "python",
   "pygments_lexer": "ipython3",
   "version": "3.9.7"
  },
  "orig_nbformat": 4
 },
 "nbformat": 4,
 "nbformat_minor": 2
}
