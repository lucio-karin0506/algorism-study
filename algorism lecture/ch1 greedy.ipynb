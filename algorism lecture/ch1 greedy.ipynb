{
 "cells": [
  {
   "cell_type": "markdown",
   "metadata": {},
   "source": [
    "## 1. 큰 수의 법칙"
   ]
  },
  {
   "cell_type": "code",
   "execution_count": 1,
   "metadata": {},
   "outputs": [],
   "source": [
    "def get_big_num(num_list, M, K):\n",
    "    res = 0\n",
    "    first = num_list[0]\n",
    "    second = num_list[1]\n",
    "\n",
    "N, M, K = map(int, input().split())\n",
    "num_list = list(map(int, input().split()))\n",
    "\n",
    "num_list.sort(reverse=True)\n",
    "\n",
    "res = get_big_num(num_list, M, K)\n",
    "res"
   ]
  }
 ],
 "metadata": {
  "interpreter": {
   "hash": "c0c50851f344b43aeb9dadf44b144fb3af82e8b368dc2ce0455f515a87222333"
  },
  "kernelspec": {
   "display_name": "Python 3.9.7 64-bit ('algorism_env': conda)",
   "language": "python",
   "name": "python3"
  },
  "language_info": {
   "codemirror_mode": {
    "name": "ipython",
    "version": 3
   },
   "file_extension": ".py",
   "mimetype": "text/x-python",
   "name": "python",
   "nbconvert_exporter": "python",
   "pygments_lexer": "ipython3",
   "version": "3.9.7"
  },
  "orig_nbformat": 4
 },
 "nbformat": 4,
 "nbformat_minor": 2
}
