{
 "cells": [],
 "metadata": {
  "interpreter": {
   "hash": "4d5f8a6895bb03af9d6d753961e6fd6aa3e71835736c9fda7f5d189375eb4616"
  },
  "kernelspec": {
   "display_name": "Python 3.9.7 64-bit ('algorism_test': conda)",
   "language": "python",
   "name": "python3"
  },
  "language_info": {
   "codemirror_mode": {
    "name": "ipython",
    "version": 3
   },
   "file_extension": ".py",
   "mimetype": "text/x-python",
   "name": "python",
   "nbconvert_exporter": "python",
   "pygments_lexer": "ipython3",
   "version": "3.9.7"
  },
  "orig_nbformat": 4
 },
 "nbformat": 4,
 "nbformat_minor": 2
}
