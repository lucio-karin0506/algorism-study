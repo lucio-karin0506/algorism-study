{
 "cells": [
  {
   "cell_type": "markdown",
   "metadata": {},
   "source": [
    "## 1. 기준에 따른 데이터 정렬"
   ]
  },
  {
   "cell_type": "code",
   "execution_count": 1,
   "metadata": {},
   "outputs": [
    {
     "data": {
      "text/plain": [
       "[0, 1, 2, 3, 4, 5, 6, 7, 8, 9]"
      ]
     },
     "execution_count": 1,
     "metadata": {},
     "output_type": "execute_result"
    }
   ],
   "source": [
    "'''\n",
    "    선택정렬\n",
    "    1. 매번 가장 작은 것을 선택\n",
    "    2. 뒤에 있는 리스트 원소 중 가장 적은 값의 인덱스를 찾아 현재 인덱스 원소와 비교하여 교환\n",
    "    3. 시간적 복잡도가 꽤나 큼\n",
    "'''\n",
    "def selection_sort(arr):\n",
    "    for index in range(len(arr)):\n",
    "        # 가장 작은 원소의 인덱스\n",
    "        min_index = index\n",
    "        for next_index in range(index+1, len(arr)):\n",
    "            if arr[min_index] > arr[next_index]:\n",
    "                min_index = next_index\n",
    "        # swap\n",
    "        arr[index], arr[min_index] = arr[min_index], arr[index]\n",
    "    return arr\n",
    "\n",
    "test_arr = [7, 5, 9, 0, 3, 1, 6, 2, 4, 8]\n",
    "selection_sort(test_arr)"
   ]
  },
  {
   "cell_type": "code",
   "execution_count": 2,
   "metadata": {},
   "outputs": [
    {
     "data": {
      "text/plain": [
       "[0, 1, 2, 3, 4, 5, 6, 7, 8, 9]"
      ]
     },
     "execution_count": 2,
     "metadata": {},
     "output_type": "execute_result"
    }
   ],
   "source": [
    "'''\n",
    "    삽입정렬\n",
    "    1. 데이터가 거의 정렬되어 있을 때 매우 효율적\n",
    "    2. 특정 데이터를 적절한 위치에 삽입\n",
    "    3. 첫 번째 데이터는 그 자체로 정렬되어 있다는 판단 하에 두 번째 데이터부터 시작\n",
    "'''\n",
    "def insert_sort(arr):\n",
    "    for index in range(1, len(arr)):\n",
    "        # 선택된 인덱스 앞에 있는 인덱스들 하나씩 불러옴\n",
    "        for prev_index in range(index, 0, -1):\n",
    "            # 선택된 인덱스가 앞에 있는 인덱스들보다 작다면\n",
    "            if arr[prev_index] < arr[prev_index-1]:\n",
    "                # 앞에 있는 인덱스 swap\n",
    "                arr[prev_index], arr[prev_index-1] = arr[prev_index-1], arr[prev_index]\n",
    "            # 앞에 있는 인덱스들보다 크다면\n",
    "            else:\n",
    "                # 왼쪽으로 이동하는 것 멈추고 반복문 탈출\n",
    "                break\n",
    "                \n",
    "    return arr\n",
    "\n",
    "test_arr = [7, 5, 9, 0, 3, 1, 6, 2, 4, 8]\n",
    "insert_sort(test_arr)"
   ]
  },
  {
   "cell_type": "code",
   "execution_count": 3,
   "metadata": {},
   "outputs": [],
   "source": [
    "'''\n",
    "    퀵정렬\n",
    "    1. 대부분의 정렬 라이브러리 근간이 되는 알고리즘\n",
    "    2. 기준 설정 후 다음 쿤 수와 작은 수 교환한 후 리스트 반으로 나누는 동작 방식\n",
    "    3. 피벗: 교환하기 위한 기준\n",
    "'''\n",
    "def quick_sort(arr, start, end):\n",
    "    # 원소가 한 개인 경우 종료\n",
    "    if start >= end:\n",
    "        return\n",
    "    # 피벗은 첫 번째 원소\n",
    "    pivot = start\n",
    "    left = start + 1\n",
    "    right = end\n",
    "\n",
    "    while left <= right:\n",
    "        # 피벗보다 큰 데이터 찾을 때까지 반복\n",
    "        while left <= end and arr[left] <= arr[pivot]:\n",
    "            left += 1\n",
    "        # 피벗보다 작은 데이터 찾을 때까지 반복\n",
    "        while right > start and arr[right] >= arr[pivot]:\n",
    "            right -= 1\n",
    "        # 엇갈렸다면 작은 데이터와 피벗 교체\n",
    "        if left > right:\n",
    "            arr[right], arr[pivot] = arr[pivot], arr[right]\n",
    "        # 엇갈리지 않았다면 작은 데이터와 큰 데이터 교체\n",
    "        else:\n",
    "            arr[left], arr[right] = arr[right], arr[left]\n",
    "\n",
    "    # 분할 이후 왼쪽 부분과 오른쪽 부분에서 각각 정렬 수행\n",
    "    quick_sort(arr, start, right - 1)\n",
    "    quick_sort(arr, right + 1, end)\n",
    "\n",
    "test_arr = [7, 5, 9, 0, 3, 1, 6, 2, 4, 8]\n",
    "quick_sort(test_arr, 0, 9)"
   ]
  },
  {
   "cell_type": "code",
   "execution_count": 4,
   "metadata": {},
   "outputs": [
    {
     "data": {
      "text/plain": [
       "[0, 1, 2, 3, 4, 5, 6, 7, 8, 9]"
      ]
     },
     "execution_count": 4,
     "metadata": {},
     "output_type": "execute_result"
    }
   ],
   "source": [
    "'''\n",
    "    퀵 정렬 버전2\n",
    "'''\n",
    "def quick_sort2(arr):\n",
    "    # 리스트가 하나 이하의 원소만을 담고 있다면 종료\n",
    "    if len(arr) <= 1:\n",
    "        return arr\n",
    "    \n",
    "    # 피벗은 첫 번째 원소\n",
    "    pivot = arr[0]\n",
    "    # 피벗을 제외한 리스트\n",
    "    tail = arr[1:]\n",
    "\n",
    "    # 분할된 왼쪽 부분\n",
    "    left_side = [x for x in tail if x <= pivot]\n",
    "    # 분할된 오른쪽 부분\n",
    "    right_side = [x for x in tail if x > pivot]\n",
    "\n",
    "    # 분할 이후 왼쪽 부분과 오른쪽 부분에서 각각 정렬 수행하고, 전체 리스트 반환\n",
    "    return quick_sort2(left_side) + [pivot] + quick_sort2(right_side)\n",
    "\n",
    "test_arr = [7, 5, 9, 0, 3, 1, 6, 2, 4, 8]\n",
    "quick_sort2(test_arr)"
   ]
  },
  {
   "cell_type": "code",
   "execution_count": 5,
   "metadata": {},
   "outputs": [
    {
     "name": "stdout",
     "output_type": "stream",
     "text": [
      "0 0 0 1 1 1 1 1 2 2 2 2 2 2 2 3 3 3 3 4 4 4 4 4 4 4 4 5 6 6 6 6 6 6 8 8 8 8 8 8 8 8 8 9 9 "
     ]
    }
   ],
   "source": [
    "'''\n",
    "    계수 정렬\n",
    "    1. 특정 조건 부합할 때만 사용할 수 있지만 매우 빠름\n",
    "    2. 가장 큰 데이터와 가장 작은 데이터의 차이가 매우 크면 사용하기 힘듦\n",
    "    3. 가장 큰 데이터와 가장 작은 데이터의 범위가 모두 담길 수 있도록 하나의 리스트 생성\n",
    "    4. 데이터를 하나씩 확인하며 데이터의 값과 동일한 인덱스의 데이터를 1씩 증가\n",
    "'''\n",
    "def counting_sort(arr):\n",
    "    # 모든 범위를 포함하는 리스트 선언(모든 값은 0으로 초기화)\n",
    "    count = [0] * (max(arr) + 1)\n",
    "\n",
    "    # 각 데이터에 해당하는 인덱스의 값 증가\n",
    "    for i in range(len(arr)):\n",
    "        count[arr[i]] += i\n",
    "\n",
    "    # 리스트에 기록된 정렬 정보 확인\n",
    "    for i in range(len(count)):\n",
    "        for _ in range(count[i]):\n",
    "            print(i, end=' ')\n",
    "\n",
    "test_arr = [7, 5, 9, 0, 3, 1, 6, 2, 4, 8]\n",
    "counting_sort(test_arr)"
   ]
  },
  {
   "cell_type": "markdown",
   "metadata": {},
   "source": [
    "## 2. 실전 문제"
   ]
  },
  {
   "cell_type": "code",
   "execution_count": 9,
   "metadata": {},
   "outputs": [
    {
     "name": "stdout",
     "output_type": "stream",
     "text": [
      "278 15 12 "
     ]
    }
   ],
   "source": [
    "# 1. 위에서 아래로\n",
    "T = int(input())\n",
    "num_list = []\n",
    "\n",
    "for _ in range(T):\n",
    "    num_list.append(int(input()))\n",
    "\n",
    "# num_list.sort(reverse=True)\n",
    "# num_list\n",
    "\n",
    "num_list = sorted(num_list, reverse=True)\n",
    "\n",
    "for i in num_list:\n",
    "    print(i, end=' ')"
   ]
  },
  {
   "cell_type": "code",
   "execution_count": 14,
   "metadata": {},
   "outputs": [
    {
     "name": "stdout",
     "output_type": "stream",
     "text": [
      "이순신 홍길동 "
     ]
    }
   ],
   "source": [
    "# 2. 성적이 낮은 순서로 학생 출력\n",
    "T = int(input())\n",
    "score_dict = {}\n",
    "\n",
    "for _ in range(T):\n",
    "    name, score = map(str, input().split())\n",
    "    score_dict[name] = int(score)\n",
    "\n",
    "score_list = sorted(score_dict.items(), key=lambda x:x[1])\n",
    "\n",
    "for key in score_list:\n",
    "    print(key[0], end=' ')"
   ]
  },
  {
   "cell_type": "code",
   "execution_count": 19,
   "metadata": {},
   "outputs": [
    {
     "name": "stdout",
     "output_type": "stream",
     "text": [
      "26\n"
     ]
    }
   ],
   "source": [
    "# 두 배열의 원소 교체\n",
    "N, K = map(int, input().split())\n",
    "a = list(map(int, input().split()))\n",
    "b = list(map(int, input().split()))\n",
    "\n",
    "a = sorted(a)\n",
    "b = sorted(b, reverse=True)\n",
    "\n",
    "for i in range(K):\n",
    "    if a[i] < b[i]:\n",
    "        a[i], b[i] = b[i], a[i]\n",
    "    else:\n",
    "        break\n",
    "\n",
    "print(sum(a))"
   ]
  }
 ],
 "metadata": {
  "interpreter": {
   "hash": "4d5f8a6895bb03af9d6d753961e6fd6aa3e71835736c9fda7f5d189375eb4616"
  },
  "kernelspec": {
   "display_name": "Python 3.9.7 64-bit ('algorism_test': conda)",
   "language": "python",
   "name": "python3"
  },
  "language_info": {
   "codemirror_mode": {
    "name": "ipython",
    "version": 3
   },
   "file_extension": ".py",
   "mimetype": "text/x-python",
   "name": "python",
   "nbconvert_exporter": "python",
   "pygments_lexer": "ipython3",
   "version": "3.9.7"
  },
  "orig_nbformat": 4
 },
 "nbformat": 4,
 "nbformat_minor": 2
}
